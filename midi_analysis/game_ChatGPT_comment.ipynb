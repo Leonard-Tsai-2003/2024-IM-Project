{
 "cells": [
  {
   "cell_type": "code",
   "execution_count": 4,
   "id": "adee56a4",
   "metadata": {},
   "outputs": [],
   "source": [
    "import openai\n",
    "import mido"
   ]
  },
  {
   "cell_type": "code",
   "execution_count": 5,
   "id": "b0cbc1a3",
   "metadata": {},
   "outputs": [],
   "source": [
    "with open('secret key.txt', 'r', encoding='utf-8') as file:\n",
    "    # Read the file content\n",
    "    key = file.read()\n",
    "openai.api_key = key"
   ]
  },
  {
   "cell_type": "markdown",
   "id": "2bd8062f",
   "metadata": {},
   "source": [
    "## Student 1\n",
    "The first half of the reference piece features crescendos and decrescendos, conveying strong emotion. However, the student maintained a constant velocity throughout. The tempo and pedals are accurate, but the student's note durations are slightly shorter.\n",
    "\n",
    "## Student 2\n",
    "The student's articulation is highly inaccurate; each note should be played legato rather than staccato. Although the velocity, tempo, and pedal usage are accurate, the articulation undermines the emotional expression.\n",
    "\n",
    "## Student 3\n",
    "The student played too hastily, resulting in poor tempo control. However, the notes, pedal usage, and velocity are accurate. The student should focus on practicing steady tempo control first."
   ]
  },
  {
   "cell_type": "code",
   "execution_count": 7,
   "id": "33a10941",
   "metadata": {},
   "outputs": [],
   "source": [
    "def get_midi_file(midi_path):\n",
    "    return str(mido.MidiFile(midi_path).tracks[0])\n",
    "def get_response(prompt, model=\"gpt-4o-mini\"):\n",
    "    messages = [\n",
    "        {\"role\": \"system\", \"content\": \n",
    "         \n",
    "         f\"\"\"You are a piano tutor. You'll receive two MIDI files, one as a reference performance \n",
    "         and the other as the student's performance. Analyze both and provide detailed feedback \n",
    "         and suggestions for improvement. Please don't provide abundant response. Just give me only \n",
    "         how the student play compared to the reference. You should provide at most three sentences.\n",
    "         \n",
    "         Here are three examples:\n",
    "         Reference:{get_midi_file(\"2_t2.mid\")}\n",
    "         Student1: {get_midi_file(\"2_s1.mid\")}\n",
    "         \n",
    "         After receiving the pair of inputs, Reference and Student1, you should output: \"The first half\n",
    "         of the reference piece features crescendos and decrescendos, conveying strong emotion. However,\n",
    "         the student maintained a constant velocity throughout. The tempo and pedals are accurate, but\n",
    "         the student's note durations are slightly shorter.\"\"\n",
    "         \n",
    "         Student2: {get_midi_file(\"2_s2.mid\")}\n",
    "         After receiving the pair of inputs, Reference and Student2, you should output: \"The student's\n",
    "         articulation is highly inaccurate; each note should be played legato rather than staccato.\n",
    "         Although the velocity, tempo, and pedal usage are accurate, the articulation undermines the\n",
    "         emotional expression.\"\n",
    "         \n",
    "         Student3: {get_midi_file(\"2_s3.mid\")}\n",
    "         After receiving the pair of inputs, Reference and Student3, you should output: \"The student\n",
    "         played too hastily, resulting in poor tempo control. However, the notes, pedal usage, and\n",
    "         velocity are accurate. The student should focus on practicing steady tempo control first.\"\n",
    "         \n",
    "         \"\"\"},\n",
    "        {\"role\": \"user\", \"content\": prompt}\n",
    "    ]\n",
    "    response = openai.ChatCompletion.create(\n",
    "    model=model, messages=messages, temperature=0.7)\n",
    "    \n",
    "    return response, response.choices[0].message[\"content\"]\n",
    "def create_prompt(ref, stu):\n",
    "    return f\"Reference:{get_midi_file(ref)}\\n Student:{get_midi_file(stu)}\""
   ]
  },
  {
   "cell_type": "code",
   "execution_count": 9,
   "id": "6c6b7935",
   "metadata": {},
   "outputs": [],
   "source": [
    "response_info, response = get_response(create_prompt(ref=\"2_t2.mid\", stu=\"2_sj.mid\"))"
   ]
  },
  {
   "cell_type": "code",
   "execution_count": 10,
   "id": "1511db55",
   "metadata": {},
   "outputs": [
    {
     "data": {
      "text/plain": [
       "<OpenAIObject chat.completion id=chatcmpl-ANY6GUIu0MFTe06xKXkV9Co6gTnL3 at 0x106af5620> JSON: {\n",
       "  \"id\": \"chatcmpl-ANY6GUIu0MFTe06xKXkV9Co6gTnL3\",\n",
       "  \"object\": \"chat.completion\",\n",
       "  \"created\": 1730175988,\n",
       "  \"model\": \"gpt-4o-mini-2024-07-18\",\n",
       "  \"choices\": [\n",
       "    {\n",
       "      \"index\": 0,\n",
       "      \"message\": {\n",
       "        \"role\": \"assistant\",\n",
       "        \"content\": \"The student exhibited a more aggressive playing style with higher velocities, particularly on key notes, which contrasts with the softer dynamics of the reference piece. While the tempo is consistent, the student's articulation lacks the subtlety and expressiveness found in the reference. The student should focus on refining dynamics and phrasing to better capture the emotional nuances of the performance.\",\n",
       "        \"refusal\": null\n",
       "      },\n",
       "      \"logprobs\": null,\n",
       "      \"finish_reason\": \"stop\"\n",
       "    }\n",
       "  ],\n",
       "  \"usage\": {\n",
       "    \"prompt_tokens\": 18756,\n",
       "    \"completion_tokens\": 69,\n",
       "    \"total_tokens\": 18825,\n",
       "    \"prompt_tokens_details\": {\n",
       "      \"cached_tokens\": 0\n",
       "    },\n",
       "    \"completion_tokens_details\": {\n",
       "      \"reasoning_tokens\": 0\n",
       "    }\n",
       "  },\n",
       "  \"system_fingerprint\": \"fp_f59a81427f\"\n",
       "}"
      ]
     },
     "execution_count": 10,
     "metadata": {},
     "output_type": "execute_result"
    }
   ],
   "source": [
    "response_info"
   ]
  },
  {
   "cell_type": "code",
   "execution_count": 11,
   "id": "a842c6fa",
   "metadata": {},
   "outputs": [
    {
     "data": {
      "text/plain": [
       "\"The student exhibited a more aggressive playing style with higher velocities, particularly on key notes, which contrasts with the softer dynamics of the reference piece. While the tempo is consistent, the student's articulation lacks the subtlety and expressiveness found in the reference. The student should focus on refining dynamics and phrasing to better capture the emotional nuances of the performance.\""
      ]
     },
     "execution_count": 11,
     "metadata": {},
     "output_type": "execute_result"
    }
   ],
   "source": [
    "response_info.choices[0].message.content"
   ]
  },
  {
   "cell_type": "code",
   "execution_count": null,
   "id": "7551d63f",
   "metadata": {},
   "outputs": [],
   "source": []
  }
 ],
 "metadata": {
  "kernelspec": {
   "display_name": "Python 3 (ipykernel)",
   "language": "python",
   "name": "python3"
  },
  "language_info": {
   "codemirror_mode": {
    "name": "ipython",
    "version": 3
   },
   "file_extension": ".py",
   "mimetype": "text/x-python",
   "name": "python",
   "nbconvert_exporter": "python",
   "pygments_lexer": "ipython3",
   "version": "3.10.11"
  }
 },
 "nbformat": 4,
 "nbformat_minor": 5
}
