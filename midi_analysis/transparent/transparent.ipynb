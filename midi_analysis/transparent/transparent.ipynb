{
 "cells": [
  {
   "cell_type": "code",
   "execution_count": null,
   "id": "db481088",
   "metadata": {},
   "outputs": [],
   "source": [
    "!pip install pillow"
   ]
  },
  {
   "cell_type": "code",
   "execution_count": 1,
   "id": "f0a82360",
   "metadata": {},
   "outputs": [
    {
     "name": "stdout",
     "output_type": "stream",
     "text": [
      "Processed GIF saved at output.gif\n"
     ]
    }
   ],
   "source": [
    "from PIL import Image, ImageSequence\n",
    "\n",
    "# Load the GIF\n",
    "gif_path = \"animation2.gif\"  # Replace with your GIF path\n",
    "output_path = \"output.gif\"\n",
    "\n",
    "# Open the GIF\n",
    "with Image.open(gif_path) as gif:\n",
    "    frames = []\n",
    "    for i, frame in enumerate(ImageSequence.Iterator(gif)):\n",
    "        # Convert frame to RGBA to work with transparency\n",
    "        frame = frame.convert(\"RGBA\")\n",
    "        pixels = frame.getdata()\n",
    "        \n",
    "        # Modify pixels: replace black with transparent\n",
    "        new_pixels = []\n",
    "        for pixel in pixels:\n",
    "            r, g, b, a = pixel  # Unpack RGBA\n",
    "            if r + g + b <= 90:  # Condition for dark parts\n",
    "                new_pixels.append((0, 0, 0, 0))  # Transparent\n",
    "            else:\n",
    "                new_pixels.append(pixel)\n",
    "\n",
    "        # Create a new frame with updated pixels\n",
    "        frame.putdata(new_pixels)\n",
    "        frames.append(frame)\n",
    "\n",
    "    # Save the modified frames as a new GIF\n",
    "    frames[0].save(output_path, save_all=True, append_images=frames[1:], loop=0, disposal=2)\n",
    "\n",
    "print(f\"Processed GIF saved at {output_path}\")\n"
   ]
  }
 ],
 "metadata": {
  "kernelspec": {
   "display_name": "Python 3 (ipykernel)",
   "language": "python",
   "name": "python3"
  },
  "language_info": {
   "codemirror_mode": {
    "name": "ipython",
    "version": 3
   },
   "file_extension": ".py",
   "mimetype": "text/x-python",
   "name": "python",
   "nbconvert_exporter": "python",
   "pygments_lexer": "ipython3",
   "version": "3.10.11"
  }
 },
 "nbformat": 4,
 "nbformat_minor": 5
}
